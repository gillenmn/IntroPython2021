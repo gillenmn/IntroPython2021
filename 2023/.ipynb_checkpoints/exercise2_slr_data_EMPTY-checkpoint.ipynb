{
 "cells": [
  {
   "cell_type": "markdown",
   "metadata": {},
   "source": [
    "# Example #2: Exploring Data Science with Python - Analyzing Sea Level Trends\n",
    "\n",
    "In this exercise, we will be importing, analyzing, and plotting [NOAA Tide Gauge data](https://tidesandcurrents.noaa.gov/stations.html?type=Water+Levels) to interpret and visualize sea level trends for two sites in MA. We will be learning and utilizing these skills:\n",
    "\n",
    "- Importing CSVs and converting them to a usable format with *pandas*\n",
    "- Plotting data with *matplotlib*\n",
    "- Creating functions\n",
    "\n",
    "*Optional:*\n",
    "- Fitting a regression model to imported data with *sklearn*"
   ]
  },
  {
   "cell_type": "code",
   "execution_count": null,
   "metadata": {},
   "outputs": [],
   "source": [
    "# import libraries\n",
    "import numpy as np\n",
    "import matplotlib.pyplot as plt\n",
    "import pandas as pd\n",
    "from sklearn.linear_model import LinearRegression"
   ]
  },
  {
   "cell_type": "markdown",
   "metadata": {},
   "source": [
    "### 1. Import & Clean Data\n",
    "Let's begin with bringing our tide gauge data into python. I've included two CSV files for sea level data - please click on one of these files to examine the input format. For this first part, we'll be using the Woods Hole data, and working with the `pandas` library. It is best to use `pandas` when working with tabular data, but you can also read & work with files using `numpy`."
   ]
  },
  {
   "cell_type": "code",
   "execution_count": null,
   "metadata": {},
   "outputs": [],
   "source": [
    "# use the pandas read_csv function to bring in the data, and assign it to a variable\n",
    "wh_sl = \n",
    "\n",
    "# print the data type - what does read_csv assign this new variable?\n"
   ]
  },
  {
   "cell_type": "markdown",
   "metadata": {},
   "source": [
    "We can also get a description of the rows, columns, and datatypes in our dataframe using the `info()` function:"
   ]
  },
  {
   "cell_type": "code",
   "execution_count": null,
   "metadata": {},
   "outputs": [],
   "source": [
    "# name_of_dataframe.info()\n"
   ]
  },
  {
   "cell_type": "markdown",
   "metadata": {},
   "source": [
    "The first row of text tells us what the datatype of our input variable is (in this case, a dataframe which we identified above). Following that, we can see the number of rows for all columns, as well as the number of columns in the dataframe. What's neat about this function as well is you can see the specific datatype of values for each respective column. For example, the values in `Year` are all integers, and the specific mean sea level measurement values (`Monthly_MSL`) are floats."
   ]
  },
  {
   "cell_type": "markdown",
   "metadata": {},
   "source": [
    "The `describe()` function provides statistical information on each column of the dataframe:"
   ]
  },
  {
   "cell_type": "code",
   "execution_count": null,
   "metadata": {},
   "outputs": [],
   "source": [
    "# name_of_dataframe.describe()\n"
   ]
  },
  {
   "cell_type": "markdown",
   "metadata": {},
   "source": [
    "To make sure the data was imported correctly, we can examine the first few rows using the `head()` function on the dataframe."
   ]
  },
  {
   "cell_type": "code",
   "execution_count": null,
   "metadata": {},
   "outputs": [],
   "source": [
    "# name_of_dataframe.head()\n"
   ]
  },
  {
   "cell_type": "markdown",
   "metadata": {},
   "source": [
    "We can also examine the last few rows using the `tail()` function."
   ]
  },
  {
   "cell_type": "code",
   "execution_count": null,
   "metadata": {},
   "outputs": [],
   "source": [
    "# name_of_dataframe.tail()\n"
   ]
  },
  {
   "cell_type": "markdown",
   "metadata": {},
   "source": [
    "Congratulations, you've successfully imported data into Python! Pandas mostly supports .csv and Excel files, but with other libraries it's very easy to import .txt, .netcdf, and other data file types quite easily. Numpy has great support for reading .txt files into arrays!\n",
    "\n",
    "While we got quite lucky in our water levels being read in quite nicely with no errors, that will often not be the case working with data for research. Luckily, Pandas, like others Python toolboxes, has a series of functions that allow us to manipulate and clean up dataframes. I encourage you to read the full documentation for Pandas and other libraries to find those functions. And remember that everytime you change something from the original dataset to copy and rename it as a new variable!\n",
    "\n",
    "Even though our data looks fine, we'll take a look at how some of these functions can alter dataframes:"
   ]
  },
  {
   "cell_type": "code",
   "execution_count": null,
   "metadata": {},
   "outputs": [],
   "source": [
    "# first, copy the data frame so we don't mess with the original data!\n",
    "\n",
    "\n",
    "# we can also get the column names from the dataframe\n",
    "\n",
    "\n",
    "\n",
    "# reassign the index of the dataframe to years in the dataset using the .set_index() function\n",
    "\n",
    "\n"
   ]
  },
  {
   "cell_type": "code",
   "execution_count": null,
   "metadata": {},
   "outputs": [],
   "source": [
    "# index the 2nd and 3rd columns to a new dataset (remember, indexing starts at 0!)\n",
    "\n"
   ]
  },
  {
   "cell_type": "markdown",
   "metadata": {},
   "source": [
    "While a little silly to mess with perfectly good data, hopefully these functions highlight some of the capabilities pandas has to manipulate dataframes. You never know when they may come in handy!\n",
    "\n",
    "Now we're ready to move on to the next step and visualize our water level trends.\n",
    "\n",
    "### 2. Plot Sea Level Data\n",
    "\n",
    "We are ready to plot our newly cleaned up sea level data. We'll be using the `matplotlib` library to visual monthly mean sea level through time for Woods Hole.\n",
    "\n",
    "First, let's assign some variables to values from the dataframe to save us some typing:"
   ]
  },
  {
   "cell_type": "code",
   "execution_count": null,
   "metadata": {},
   "outputs": [],
   "source": [
    "# index the Years and Monthly_MSL columns from the dataframe into separate variables\n",
    "\n",
    "# use loc to index data by name/string\n",
    "years = \n",
    "# use iloc to index data by position\n",
    "msl = \n",
    "\n",
    "print(years)\n",
    "print(msl)"
   ]
  },
  {
   "cell_type": "markdown",
   "metadata": {},
   "source": [
    "Below are commands to plot MSL as a solid black line. We also assign labels to the x and y axis, as well as give the plot a title."
   ]
  },
  {
   "cell_type": "code",
   "execution_count": null,
   "metadata": {},
   "outputs": [],
   "source": [
    "# create a figure\n",
    "fig = plt.figure(figsize=plt.figaspect(0.5))\n",
    "# create a line graph\n",
    "\n",
    "# add X & Y axis labels\n",
    "\n",
    "\n",
    "# add a title\n",
    "\n",
    "# show plot\n"
   ]
  },
  {
   "cell_type": "markdown",
   "metadata": {},
   "source": [
    "Looks awesome! We have so far imported data, processed it into a usable format, and have not visualized our plot with a line graph. Great work!\n",
    "\n",
    "There are other functions within the `matplotlib` library to further customize plots that you create. You can find those & their descriptions in the library documentation (linked in **Relevant Libraries** from main notebook) or with the cheat sheet (linked in **Resources** from main notebook).\n",
    "\n",
    "### 3. Constructing Functions\n",
    "\n",
    "We now have an established workflow to extract, process, and plot sea level data. Wouldn't it be nice if we could use this with other sea level rise data sets? This is where functions come in to help!\n",
    "\n",
    "A function takes generic input variables, performs a series of operations on them (including calculations, data processing, plotting, etc.), and returns a specified variable, figure, or even dataset! These can be written within a script, or as a separate python file. Functions are helpful because:\n",
    "1. You don't have to rewrite the same block of code over & over again\n",
    "2. Figure specifics can be standardized\n",
    "3. Open source potential!\n",
    "\n",
    "For this part of the exercise, we will take our workflow from steps 1 & 2 and combine them all into one function called `plot_sl`."
   ]
  },
  {
   "cell_type": "code",
   "execution_count": null,
   "metadata": {},
   "outputs": [],
   "source": [
    "def plot_sl(filename):\n",
    "    # you have the option to include import statements for specific libraries used in the function here. i recommend doing this if you are writing your functions in a separate script!\n",
    "    \n",
    "    # read in file\n",
    "    \n",
    "    \n",
    "    # collect time and MSL data into separate variables\n",
    "    \n",
    "    \n",
    "    \n",
    "    # this code block extracts the site name with some fun string indexing & functions\n",
    "    siteName = filename[:-4].replace('_', ' ')\n",
    "    siteName = siteName[:-8] + ',' + siteName[-8:-4]\n",
    "    \n",
    "    # plot mean sea level\n",
    "    \n",
    "    \n",
    "    \n",
    "    \n",
    "    return df"
   ]
  },
  {
   "cell_type": "markdown",
   "metadata": {},
   "source": [
    "Now let's test our function on the Boston NOAA Tide Gauge Data:"
   ]
  },
  {
   "cell_type": "code",
   "execution_count": null,
   "metadata": {},
   "outputs": [],
   "source": [
    "plot_sl('Boston_MA_2023.csv'); #the ; suppresses the function output, if we deleted this we would see the dataframe"
   ]
  },
  {
   "cell_type": "markdown",
   "metadata": {},
   "source": [
    "It works! We now have a convienent function to use to visualize and process sea level data for any NOAA Tide Gauge station. Functions are a wonderful part of any coding language, especially Python (can you tell that I am a huge fan??).\n",
    "\n",
    "This concludes the in-person section of the excerise. Below is an optional addition to the exercise that fits and plots a linear model to our sea level data using the `sklearn` machine learning library. If you are interested in data analysis, I highly recommend you work through the next section on your own time (if we don't get to it in class).\n",
    "\n",
    "## Exercise #2 Optional Skills Practice\n",
    "\n",
    "### 4. Fit a regression model\n",
    "\n",
    "In order to estimate rates of sea level change, NOAA fits a simple linear regression model to the monthly mean sea level (MSL) data. We'll be replicating this approach and fitting our own linear model with our newly cleaned data, using the machine learning library `sklearn`.\n",
    "\n",
    "If you haven't learned about regressions or don't remember them from previous course work, do not fret! Brynn will be reviewing these statistical tools in their class, **Probability & Statistics** later in the summer. I highly encourage checking those out if you will be working with a lot of data for your research!"
   ]
  },
  {
   "cell_type": "code",
   "execution_count": null,
   "metadata": {},
   "outputs": [],
   "source": [
    "# first, assign our input and output variables to construct the model\n",
    "\n",
    "# we have to convert these columns of datas into 1D arrays to use with the sklearn functions. we assign the variables using np.array(), and change the dimensions of the array with .reshape()\n",
    "# the -1 in reshape means numpy has to figure out that dimension (i.e., in this case, an unknown number of rows)\n",
    "yrs =  #loc isolates rows and/or columns based on labels\n",
    "msl =  #iloc isolates rows and/or based on index\n",
    "#remember python indexing starts at 0!\n",
    "\n",
    "# make sure we got the right data!\n",
    "print(yrs)\n",
    "print() # just an empty space to separate our two arrays\n",
    "print(msl)"
   ]
  },
  {
   "cell_type": "markdown",
   "metadata": {},
   "source": [
    "These arrays should match their respective columns in the dataframe above. Now we can bring in our linear model setup from sklearn."
   ]
  },
  {
   "cell_type": "code",
   "execution_count": null,
   "metadata": {},
   "outputs": [],
   "source": [
    "# initialize and fit the linear regression model\n",
    "lm = \n",
    "lm.score(yrs,msl) # this extracts our R^2 value"
   ]
  },
  {
   "cell_type": "code",
   "execution_count": null,
   "metadata": {},
   "outputs": [],
   "source": [
    "# use fitted linear model to model predicted MSL values\n"
   ]
  },
  {
   "cell_type": "code",
   "execution_count": null,
   "metadata": {},
   "outputs": [],
   "source": [
    "# extract the model coefficient and intercept\n",
    "slope = \n",
    "intcpt = \n",
    "\n",
    "print('The rate of sea level change for Woods Hole, MA is: ' + str(float(slope)) + ' meters per year.')"
   ]
  },
  {
   "cell_type": "markdown",
   "metadata": {},
   "source": [
    "Neat! We just extracted a rate of sea level rise in meters per year for Woods Hole. We can now overlay the calculated regression line to our raw MSL data we plotted before to examine the fit."
   ]
  },
  {
   "cell_type": "code",
   "execution_count": null,
   "metadata": {},
   "outputs": [],
   "source": [
    "fig = plt.figure(figsize=plt.figaspect(0.5))\n",
    "plt.plot(years,msl, color='k');\n",
    "plt.xlabel('Years',style='italic',fontsize=12);\n",
    "plt.ylabel('Monthly MSL (m)',style='italic',fontsize=12);\n",
    "plt.title('Mean Sea Level for Woods Hole, MA', weight='bold',fontsize=15);\n",
    "\n",
    "# add regression line\n",
    "plt.plot(yrs, modeled_msl, color='r', linewidth=2.0)\n",
    "plt.legend(['NOAA Data','Modeled Linear Trend'])\n",
    "plt.show()\n",
    "\n",
    "# print out model specifications\n",
    "print('Model score (R\\u00b2): ' + str(float(lm.score(yrs,msl))))\n",
    "print('The rate of sea level change for Woods Hole, MA is: ' + str(float(slope)) + ' meters per year.')"
   ]
  },
  {
   "cell_type": "markdown",
   "metadata": {},
   "source": [
    "Congratulations! We just fitted a linear sea level rise model for Woods Hole. This concludes the data science section of the class. "
   ]
  }
 ],
 "metadata": {
  "kernelspec": {
   "display_name": "Python 3 (ipykernel)",
   "language": "python",
   "name": "python3"
  },
  "language_info": {
   "codemirror_mode": {
    "name": "ipython",
    "version": 3
   },
   "file_extension": ".py",
   "mimetype": "text/x-python",
   "name": "python",
   "nbconvert_exporter": "python",
   "pygments_lexer": "ipython3",
   "version": "3.11.3"
  }
 },
 "nbformat": 4,
 "nbformat_minor": 4
}
