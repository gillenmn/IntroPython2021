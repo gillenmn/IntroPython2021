{
 "cells": [
  {
   "cell_type": "markdown",
   "metadata": {},
   "source": [
    "# WHOI 2021 Summer Math Review: Introduction to Python\n",
    "## *Created by Megan Gillen, Mason Rogers, and Rachel Kahn*\n",
    "##### *Last Modified: 6-1-21*"
   ]
  },
  {
   "cell_type": "markdown",
   "metadata": {},
   "source": [
    "# Welcome to Python!\n",
    "### This is a Jupyter Notebook that will walk us through the basics of Python, data science applications, and relevant libraries.\n",
    "If you're interested in how I'm able to make these cool blocks of code in between live coding blocks, check out these cool resources on Markdown syntax:\n",
    "\n",
    "https://www.markdownguide.org/cheat-sheet/ *(simplified cheat sheet with basic syntax)*\n",
    "\n",
    "https://github.com/adam-p/markdown-here/wiki/Markdown-Cheatsheet *(extended cheat sheet with even more info!)*"
   ]
  },
  {
   "cell_type": "markdown",
   "metadata": {},
   "source": [
    "### Relevant Libraries that are so very helpful!\n",
    "\n",
    "#### Click on the Library Name for a link to their website\n",
    "\n",
    "__[numpy](https://numpy.org/):__ basic arthimetic operations all the way to complex mathematical functions\n",
    "\n",
    "__[matplotlib](https://matplotlib.org/):__ basic plotting library *(import as matplotlib.pyplot)*\n",
    "\n",
    "__[pandas](https://pandas.pydata.org/):__ super useful library for data processing and organization!! one of the main reasons to use python\n",
    "\n",
    "__[seaborn](https://seaborn.pydata.org/#):__  fancier plotting library (aka prettier plots)\n",
    "\n",
    "__[sklearn](https://scikit-learn.org/stable/):__ machine learning library with learning data sets and useful algorithms\n",
    "\n",
    "__[cmocean](https://matplotlib.org/cmocean/):__ colorschemes imbedded within matplotlib specifically for commonly measured oceanographic parameters\n",
    "\n",
    "Other useful libraries that may be of interest: https://wiki.python.org/moin/UsefulModules\n",
    "(fair warning I have only used the ones I've outlined explicitly above, so cannot say anything about the utility of everything on this list!)\n"
   ]
  },
  {
   "cell_type": "markdown",
   "metadata": {},
   "source": [
    "### Other Useful Beginner's Python Resources:\n",
    "\n",
    "[Stack Overflow](https://stackoverflow.com/) (likely has an answer to almost any programming question you can think of)\n",
    "\n",
    "[Anaconda](https://docs.anaconda.com/anaconda/) (information on installation and uses of Anaconda, a helpful integrated Python tool)\n",
    "\n",
    "[GitHub](https://github.com/) (data/code repository - use it as a way to keep records of changes to your codes (i.e. version control) and a way for collaborators to work on the same scripts & projects)"
   ]
  },
  {
   "cell_type": "code",
   "execution_count": null,
   "metadata": {},
   "outputs": [],
   "source": [
    "## Installing Libraries\n",
    "# If you have never used python or these libraries previously before, please run this code block by first removing the hashtags infront of the code, then press shift-enter\n",
    "\n",
    "#pip install numpy\n",
    "#pip install matplotlib\n",
    "#pip install pandas\n",
    "#pip install seaborn\n",
    "#pip install sklearn\n",
    "#pip install cmocean"
   ]
  },
  {
   "cell_type": "code",
   "execution_count": null,
   "metadata": {},
   "outputs": [],
   "source": [
    "## Import Libraries\n",
    "# Run this code block to activate the libraries in this notebook\n",
    "\n",
    "import numpy as np #the \"as\" portion of the code allows you to rename a library (so you can type less when using it a lot!)\n",
    "import matplotlib.pyplot as plt #I am accessing a specific portion of a library using the dot syntax\n",
    "import pandas as pd\n",
    "import seaborn as sbn\n",
    "import sklearn\n",
    "import cmocean\n",
    "import cmocean.plots as cmp"
   ]
  }
 ],
 "metadata": {
  "kernelspec": {
   "display_name": "Python 3",
   "language": "python",
   "name": "python3"
  },
  "language_info": {
   "codemirror_mode": {
    "name": "ipython",
    "version": 3
   },
   "file_extension": ".py",
   "mimetype": "text/x-python",
   "name": "python",
   "nbconvert_exporter": "python",
   "pygments_lexer": "ipython3",
   "version": "3.8.8"
  }
 },
 "nbformat": 4,
 "nbformat_minor": 4
}
