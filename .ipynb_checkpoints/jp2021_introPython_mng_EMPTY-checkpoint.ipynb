{
 "cells": [
  {
   "cell_type": "markdown",
   "metadata": {},
   "source": [
    "# MIT-WHOI JP 2021 Summer Math Review: Introduction to Python\n",
    "## *Created by Megan Gillen, Mason Rogers, and Rachel Kahn*\n",
    "##### *Last Modified: 7-13-21*"
   ]
  },
  {
   "cell_type": "markdown",
   "metadata": {},
   "source": [
    "*This notebook utilizes resources from the CSDMS ESPIn 2021 Summer Course:* \n",
    "\n",
    "Mark Piper, Benjamin Campforts, Irina Overeem, Nicole Gasparini, and Leilani Arthurs, 2020. Earth Surface Processes Institute (ESPIn) Course Material (Version v1.0). Zenodo. http://doi.org/10.5281/zenodo.4000979.\n",
    "\n",
    "*You can access the ESPIn course material & helpful tutorials through their [GitHub repository](https://github.com/csdms/espin)*. "
   ]
  },
  {
   "cell_type": "markdown",
   "metadata": {},
   "source": [
    "# Welcome to Python!\n",
    "### This is a Jupyter Notebook that will walk us through the basics of Python, data science applications, and relevant libraries.\n",
    "\n",
    "Python is an open source, object-oriented programming language with useful applications in data science, numerical modeling, GIS, and developing open source software."
   ]
  },
  {
   "cell_type": "markdown",
   "metadata": {},
   "source": [
    "*If you're interested in how I'm able to make these blocks of text in between live coding blocks, check out these cool resources on Markdown syntax:*\n",
    "\n",
    "https://www.markdownguide.org/cheat-sheet/ *(simplified cheat sheet with basic syntax)*\n",
    "\n",
    "https://github.com/adam-p/markdown-here/wiki/Markdown-Cheatsheet *(extended cheat sheet with even more info!)*"
   ]
  },
  {
   "cell_type": "markdown",
   "metadata": {},
   "source": [
    "## Python Basics\n",
    "\n",
    "We'll start class today with some generic skills/syntax to get everyone up to speed on all things Python.\n",
    "\n",
    "Python is an [object-oriented programming (OOP) language](https://www.educative.io/blog/object-oriented-programming), which means it uses & performs operations upon variables with pre-assigned values. Let's begin by exploring the basics of OOP with the classic `Hello World!` example:"
   ]
  },
  {
   "cell_type": "code",
   "execution_count": null,
   "metadata": {},
   "outputs": [],
   "source": [
    "# first, let's generate a print statement that greets us to the world of Python!\n",
    "print('Hello World!')"
   ]
  },
  {
   "cell_type": "markdown",
   "metadata": {},
   "source": [
    "We can also assign & print variables of different [data types](https://www.w3schools.com/python/python_datatypes.asp):"
   ]
  },
  {
   "cell_type": "code",
   "execution_count": null,
   "metadata": {},
   "outputs": [],
   "source": [
    "# assign our string to a variable\n",
    "greet = 'Hello World!'\n",
    "\n",
    "# assign a numeric value to a variable\n",
    "x = 1930\n",
    "\n",
    "# print both our variables\n",
    "print(greet)\n",
    "print(x)\n",
    "\n",
    "# we can also combine strings & variables in a print statement with commas\n",
    "print('WHOI was founded in:',x)"
   ]
  },
  {
   "cell_type": "markdown",
   "metadata": {},
   "source": [
    "You can also determine the data type of a specific variable with the `type` function. This is especially helpful when using numeric values, as Python can be a bit finnicky between integers and floats."
   ]
  },
  {
   "cell_type": "code",
   "execution_count": null,
   "metadata": {},
   "outputs": [],
   "source": [
    "print(type(greet))\n",
    "print(type(x))"
   ]
  },
  {
   "cell_type": "markdown",
   "metadata": {},
   "source": [
    "You can also create user-defined variables with the `input` function:"
   ]
  },
  {
   "cell_type": "code",
   "execution_count": null,
   "metadata": {},
   "outputs": [],
   "source": [
    "name = input('What is your name?')\n",
    "# the + sign concatenates strings\n",
    "print('Hello, ' + name + '!')"
   ]
  },
  {
   "cell_type": "markdown",
   "metadata": {},
   "source": [
    "The Python Shell can also perform some basic calculator operations:"
   ]
  },
  {
   "cell_type": "code",
   "execution_count": null,
   "metadata": {},
   "outputs": [],
   "source": [
    "# assign numeric values to variables\n",
    "a = 2\n",
    "b = 4\n",
    "c = a+b\n",
    "\n",
    "print(c)"
   ]
  },
  {
   "cell_type": "markdown",
   "metadata": {},
   "source": [
    "The basic Python operators are:\n",
    "\n",
    "- `+`: addition\n",
    "- `-`: subtraction\n",
    "- `*`: multiplication\n",
    "- `/`: division\n",
    "- `//`: integer division\n",
    "- `**`: exponential multiplication\n",
    "- `%`: modulus (aka the remainder in division)\n",
    "\n",
    "You can find more information about Python operators & variable assignment [here](https://www.educative.io/blog/object-oriented-programming)."
   ]
  },
  {
   "cell_type": "markdown",
   "metadata": {},
   "source": [
    "### Attributes vs. Functions\n",
    "\n",
    "The variables we have created previously are also called **objects** and are the building blocks for our code. They have inherent ***attributes***, or properties about themselves we can access and use to inform our code. We can also perform ***functions*** on objects, which are a series of operations we can use to manipulate, extract, and/or alter the *attributes* of the object.\n",
    "\n",
    "To access the **attributes** of an object, we typically use this notation: `attribute(object)`. This will return whatever specific property we want to know about an object. For example, if we want to know the length of a string, we can type `len(my_string)` and that will return the number of characters in the string.\n",
    "\n",
    "**Functions** are utilized with the *dot* notation: `object.function()`. For example, if we wanted to determine the max value in a list of elevations, we would code `elevations.max()` into Python."
   ]
  },
  {
   "cell_type": "markdown",
   "metadata": {
    "tags": []
   },
   "source": [
    "### String Operations\n",
    "As strings are objects, they have specific attributes and methods associated with their properties. "
   ]
  },
  {
   "cell_type": "markdown",
   "metadata": {},
   "source": [
    "Some useful string methods include `strip()` (removes specific characters at beginning & end of strings), `split()` (divides a string based on an input criteria), and `replace()` (replaces specific character in string with another character):"
   ]
  },
  {
   "cell_type": "code",
   "execution_count": null,
   "metadata": {},
   "outputs": [],
   "source": [
    "# create a string with all the department names:\n",
    "depts = '#AOPE; BIO; MC&G; MG&G; PO#'\n",
    "print(depts)\n",
    "\n",
    "# determine length of string using len()\n",
    "depts = depts.strip('#')\n",
    "print(depts)\n",
    "\n",
    "# change the commas to semicolons\n",
    "depts = depts.replace(';',',')\n",
    "print(depts)\n",
    "\n",
    "# split the string after each comma\n",
    "depts = depts.split(', ')\n",
    "# note that this function returns a list with all the new strings!\n",
    "print(depts)"
   ]
  },
  {
   "cell_type": "markdown",
   "metadata": {},
   "source": [
    "String methods have many applications outside just messing around with words. These operations can also help create and read in file names, work as input arguments for functions, and process data into a usable format. String functions are tools that allow us to extract the information we need, and organize data for analysis & visualization. To learn about more string functions, click [here](https://www.w3schools.com/python/python_ref_string.asp)."
   ]
  },
  {
   "cell_type": "markdown",
   "metadata": {},
   "source": [
    "If you ever get confused on what a specific method or function does, you can use the `help()` function to access documentation:"
   ]
  },
  {
   "cell_type": "code",
   "execution_count": null,
   "metadata": {},
   "outputs": [],
   "source": [
    "help(type)"
   ]
  },
  {
   "cell_type": "markdown",
   "metadata": {},
   "source": [
    "### Data Structures\n",
    "\n",
    "There are several base data structures embedded in Python, and plenty more that can be accessed with specific libraries. First, we'll look at **lists**, which store items of various datatypes:"
   ]
  },
  {
   "cell_type": "code",
   "execution_count": null,
   "metadata": {},
   "outputs": [],
   "source": [
    "# generate a list of mixed variables\n",
    "list1 = [1930, 260, 'WHOI']\n",
    "print(list1)\n",
    "\n",
    "# we can also index specific variables within a list using [] notation\n",
    "# *NOTE* python indexing starts at 0!\n",
    "print(list1[2])\n",
    "\n",
    "# we can iterate over existing items in our list\n",
    "list1[2] = 'MIT-WHOI'\n",
    "print(list1)"
   ]
  },
  {
   "cell_type": "markdown",
   "metadata": {},
   "source": [
    "Another form of lists are called **tuples** which use () notation. They function the exact same way, except after data has been entered you *cannot change* items in a Tuple."
   ]
  },
  {
   "cell_type": "code",
   "execution_count": null,
   "metadata": {},
   "outputs": [],
   "source": [
    "# generate a tuple of mixed variables\n",
    "tuple1 = (1930,260,'MIT-WHOI')\n",
    "\n",
    "# this next line should generate an error!\n",
    "tuple1[2] = 'fish'"
   ]
  },
  {
   "cell_type": "markdown",
   "metadata": {},
   "source": [
    "**Dictionaries** are another useful data type that use the `{}` notation. Values are assigned to keys in pairs that can be accessed by calling the keys in functions/scripts."
   ]
  },
  {
   "cell_type": "code",
   "execution_count": null,
   "metadata": {},
   "outputs": [],
   "source": [
    "# create a dictionary of model parameters\n",
    "params = {'sea water depth': 5, 'sediment discharge': 1000, 'island width': 300}\n",
    "\n",
    "# print our sediment discharge value\n",
    "print(params['sediment discharge'])\n",
    "\n",
    "# we can iterate over existing values in our dictionary by calling the associated keys\n",
    "params['sea water depth'] = 10\n",
    "print(params)"
   ]
  },
  {
   "cell_type": "markdown",
   "metadata": {},
   "source": [
    "### Indexing\n",
    "\n",
    "Python uses bracket `[]` notation to index items from a string or list. An ***extremely*** important thing to remember is that indexing in Python ***starts at 0!!***. So if you want to access the first item in a list, the syntax would be: `my_list[0]`.\n",
    "\n",
    "We'll start with strings:"
   ]
  },
  {
   "cell_type": "code",
   "execution_count": null,
   "metadata": {},
   "outputs": [],
   "source": [
    "# assign a string with your first name to a variable\n",
    "first_name = 'megan'\n",
    "\n",
    "# index the first 3 letters of this variable\n",
    "print(first_name[0:3])\n",
    "\n",
    "# we can also use negative numbers to index in reverse\n",
    "print(first_name[-2:])"
   ]
  },
  {
   "cell_type": "markdown",
   "metadata": {},
   "source": [
    "We can use the same indexing approach to lists:"
   ]
  },
  {
   "cell_type": "code",
   "execution_count": null,
   "metadata": {},
   "outputs": [],
   "source": [
    "# assign a list of odd numbers\n",
    "odd_num = [1,3,5,7]\n",
    "\n",
    "# index the 2nd list item\n",
    "print(odd_num[1])\n",
    "\n",
    "# if we want to change an item in the list, we index the position and assign a new object\n",
    "odd_num[-1] = 11\n",
    "print(odd_num)\n",
    "\n",
    "# we can also add items to the ends lists with .append()\n",
    "odd_num.append(13)\n",
    "print(odd_num)\n",
    "\n",
    "# and remove items with del\n",
    "del odd_num[-1]\n",
    "print(odd_num)"
   ]
  },
  {
   "cell_type": "markdown",
   "metadata": {},
   "source": [
    "### Conditionals & Loops\n",
    "\n",
    "`For` **loops** iterates through a specified range of items/time/etc., and performs tasks at each step. Let's practice by printing all items in a list:"
   ]
  },
  {
   "cell_type": "code",
   "execution_count": null,
   "metadata": {},
   "outputs": [],
   "source": [
    "# create a list with all the world's oceans\n",
    "oceans = ['Arctic', 'Antarctic', 'Atlantic', 'Indian', 'Pacific']\n",
    "\n",
    "# using a for loop, print every item in the list\n",
    "for item in oceans:\n",
    "    print(item)"
   ]
  },
  {
   "cell_type": "markdown",
   "metadata": {},
   "source": [
    "`If/Elif/Else` **conditional statements** set criteria that objects need to pass through in order for specific functions to run."
   ]
  },
  {
   "cell_type": "code",
   "execution_count": null,
   "metadata": {},
   "outputs": [],
   "source": [
    "# generate an input statement asking for an random integer\n",
    "num = int(input('Input a random integer:'))\n",
    "\n",
    "# print different statements based on numeric value\n",
    "if num > 0:\n",
    "    print(num,'is positive!')\n",
    "elif num==0: ## the '==' means the object value has to match EXACTLY with the criteria\n",
    "    print(num,'is zero!')\n",
    "else:\n",
    "    print(num,'is negative!')"
   ]
  },
  {
   "cell_type": "markdown",
   "metadata": {},
   "source": [
    "You can also add multiple criteria to conditional statements. We use `and` when we need all criteria to be met, and `or` when at least 1 criteria needs to be met."
   ]
  },
  {
   "cell_type": "code",
   "execution_count": null,
   "metadata": {},
   "outputs": [],
   "source": [
    "# generate an input statement asking for a random integer\n",
    "num = int(input('Input a random integer:'))\n",
    "\n",
    "print('Is your number between 1-10?')\n",
    "if (num > 1) and (num < 10):\n",
    "    print('Yes!')\n",
    "else:\n",
    "    print('No!')"
   ]
  },
  {
   "cell_type": "markdown",
   "metadata": {},
   "source": [
    "### Libraries\n",
    "\n",
    "One of the best features of Python is **libraries**, or commonly open sourced packages you can import into the software and use their built in functions. There are likely thousands out there, ranging from simple mathematical operations all the way to complex plotting & machine learning algorithms. Below I've outlined a couple libaries I've found useful when working with Python. Many of these are foundational libraries used often as well:\n",
    "\n",
    "#### Click on the Library Name for a link to their website\n",
    "\n",
    "__[numpy](https://numpy.org/):__ basic arthimetic operations all the way to complex mathematical functions\n",
    "\n",
    "__[matplotlib](https://matplotlib.org/):__ basic plotting library *(import as matplotlib.pyplot)*\n",
    "\n",
    "__[pandas](https://pandas.pydata.org/):__ super useful library for data processing and organization!! one of the main reasons to use python\n",
    "\n",
    "__[seaborn](https://seaborn.pydata.org/#):__  fancier plotting library (aka prettier plots)\n",
    "\n",
    "__[sklearn](https://scikit-learn.org/stable/):__ machine learning library with learning data sets and useful algorithms\n",
    "\n",
    "__[cmocean](https://matplotlib.org/cmocean/):__ colorschemes imbedded within matplotlib specifically for commonly measured oceanographic parameters\n",
    "\n",
    "Other useful libraries that may be of interest: https://wiki.python.org/moin/UsefulModules\n",
    "(fair warning I have only used the ones I've outlined explicitly above, so cannot say anything about the utility of everything on this list!)\n",
    "\n",
    "--------------\n",
    "\n",
    "In order to use libraries in Python, we have to import them into the script. Typically this is done at the very beginning of files, which you will see in the applied examples notebooks.\n"
   ]
  },
  {
   "cell_type": "code",
   "execution_count": null,
   "metadata": {},
   "outputs": [],
   "source": [
    "## Installing Libraries\n",
    "## If you have never used python or these libraries previously before, please run this code block by first removing the hashtags infront of the code, then press shift-enter\n",
    "\n",
    "#import sys\n",
    "#!conda install --yes --prefix {sys.prefix} numpy\n",
    "#!conda install --yes --prefix {sys.prefix} matplotlib\n",
    "#!conda install --yes --prefix {sys.prefix} pandas\n",
    "#!conda install --yes --prefix {sys.prefix} random\n",
    "#!conda install --yes --prefix {sys.prefix} sklearn\n",
    "#!conda install --yes --prefix {sys.prefix} cmocean\n",
    "\n",
    "## if you would rather install packages from the terminal/shell, you can find instructions from anaconda here: https://docs.anaconda.com/anaconda/user-guide/tasks/install-packages/"
   ]
  },
  {
   "cell_type": "code",
   "execution_count": null,
   "metadata": {},
   "outputs": [],
   "source": [
    "## Import Libraries\n",
    "# Run this code block to activate the libraries in this notebook\n",
    "\n",
    "import numpy as np #the \"as\" portion of the code allows you to rename a library (so you can type less when using it a lot!)\n",
    "import matplotlib.pyplot as plt #I am accessing a specific portion of a library using the dot syntax\n",
    "import pandas as pd\n",
    "import random\n",
    "from sklearn.linear_model import LinearRegression # we can also extract specific functions from parts of packages, in this case the linear regression function from sklearn\n",
    "import cmocean"
   ]
  },
  {
   "cell_type": "markdown",
   "metadata": {},
   "source": [
    "Let's explore the `cmocean` library, which contains useful colormaps for specific oceanographic parameters. We use the `help()` command to examine the cmocean documentation."
   ]
  },
  {
   "cell_type": "code",
   "execution_count": null,
   "metadata": {},
   "outputs": [],
   "source": [
    "help(cmocean)"
   ]
  },
  {
   "cell_type": "markdown",
   "metadata": {},
   "source": [
    "Let's look at what colormaps are in this library!"
   ]
  },
  {
   "cell_type": "code",
   "execution_count": null,
   "metadata": {},
   "outputs": [],
   "source": [
    "cmocean.plots.plot_gallery()"
   ]
  },
  {
   "cell_type": "markdown",
   "metadata": {},
   "source": [
    "While `cmocean` may have a limited amount of methods, often times there are hundreds of functions within libraries. I highly encourage you read through their respective documentation if you're looking for a specific task you want to accomplish. You can also always Google questions! I often search \"how do I do this oddly specific thing in Python\" and actually get useful answers. I've also outline some resources at the end of this notebook I find helpful for using Python (whether brand new or quite experienced!) that may help with finding out how to do specific things.\n",
    "\n",
    "There is one library I want to explore before diving into specific applications with our applied examples. `numpy` contains basic mathematical operations and the **array** datatype that is useful in modeling applications. This is one of the most foundational libraries in Python, as many other libraries are based on functions found in `numpy`.\n",
    "\n",
    "### Numpy\n",
    "\n",
    "First, we'll explore basic mathematical operations."
   ]
  },
  {
   "cell_type": "code",
   "execution_count": null,
   "metadata": {},
   "outputs": [],
   "source": [
    "# access pi from the numpy library\n",
    "print(np.pi)\n",
    "\n",
    "# calculate the mean and standard devation of a list of values\n",
    "scores = [98,72,85,53]\n",
    "print(np.mean(scores))\n",
    "print(np.std(scores))"
   ]
  },
  {
   "cell_type": "markdown",
   "metadata": {},
   "source": [
    "The **array** datatype from the `numpy` library is incredibly useful for storing numeric data, whether imported or created within Python. Numpy arrays are analagous to one of the main data structures in ***MATLAB***, and has a series of [accompanying functions](https://numpy.org/doc/stable/reference/routines.array-creation.html) built into the numpy library."
   ]
  },
  {
   "cell_type": "code",
   "execution_count": null,
   "metadata": {},
   "outputs": [],
   "source": [
    "# create a 1D numpy array\n",
    "data1D = np.array([1,2,3])\n",
    "print(data1D)\n",
    "\n",
    "# to create an array a multidimensional array, add each row's values in another [] within the .array command\n",
    "data3D = np.array([[1,2,3], [4,5,6], [7,8,9]])\n",
    "print(data3D)"
   ]
  },
  {
   "cell_type": "markdown",
   "metadata": {},
   "source": [
    "You can also create empty, zeros, and ones arrays based on the dimensions of another array:"
   ]
  },
  {
   "cell_type": "code",
   "execution_count": null,
   "metadata": {},
   "outputs": [],
   "source": [
    "# create an empty array based on the 3D array from the cell block above\n",
    "ones_data3D = np.ones_like(data3D)\n",
    "print(ones_data3D)\n",
    "\n",
    "# create a zeros array based on the same array\n",
    "zeros_data3D = np.zeros_like(data3D)\n",
    "print(zeros_data3D)"
   ]
  },
  {
   "cell_type": "markdown",
   "metadata": {},
   "source": [
    "There are two main ways to create arrays of equally spaced values: the `.arange()` function divides values based on step size, while `.linspace()` returns a specified number of equally spaced values over an interval.\n",
    "\n",
    "For most numpy array functions, The starting range value is **inclusive**, meaning Python/numpy will keep this value inside the array. The ending range value is **exclusive**, so Python/numpy does not input this value into the array. That means if you want a range of values from 0-100, the input arguments would be: `(0,101)`. An exception to this rule is `.linspace()`, who's stopping range value (`n`) is automatically assumed to be `n+1` based on the purpose of this function."
   ]
  },
  {
   "cell_type": "code",
   "execution_count": null,
   "metadata": {},
   "outputs": [],
   "source": [
    "# create an array of values from 0:50 spaced by 5\n",
    "print(np.arange(0,51,5))\n",
    "\n",
    "# create an array of 3 equally spaced values from 0:18\n",
    "print(np.linspace(0,18,3))"
   ]
  },
  {
   "cell_type": "markdown",
   "metadata": {},
   "source": [
    "Basic statistical operations can be performed on arrays using the `.()` notation. Note that you do not have to call `np` before using these functions, as arrays are an embedded datatype within `numpy`!"
   ]
  },
  {
   "cell_type": "code",
   "execution_count": null,
   "metadata": {},
   "outputs": [],
   "source": [
    "# find the mean of the 3D dataset\n",
    "print(data3D.mean())\n",
    "\n",
    "# find the max of the 3D dataset\n",
    "print(data3D.max())\n",
    "\n",
    "# find the min of the 3D dataset\n",
    "print(data3D.min())"
   ]
  },
  {
   "cell_type": "markdown",
   "metadata": {},
   "source": [
    "## Applied Exercises: develop & practice your skills!\n",
    "\n",
    "Let's practice some of our Python skills & applying libraries with these excercises!\n",
    "\n",
    "[Example #1: Numerical Modeling Applications with Python - Diffusion of Random Particles](exercise1_diffusion_modeling.ipynb)\n",
    "\n",
    "[Example #2: Exploring Data Science with Python - Analyzing Sea Level Trends](exercise2_slr_data.ipynb)"
   ]
  },
  {
   "cell_type": "markdown",
   "metadata": {},
   "source": [
    "### This concludes the MIT-WHOI Summer 2021 JP Math Review, Intro to Python class! \n",
    "#### Below I've listed some more resources that may help in your respective Python journeys. Please don't hestitate to also contact me via Slack or [e-mail](mgillen@mit.edu) if you have any other questions or want to chat about all things Python!"
   ]
  },
  {
   "cell_type": "markdown",
   "metadata": {},
   "source": [
    "### More Beginner's Python Resources:\n",
    "\n",
    "[Python WikiPage Beginner's Guide](https://wiki.python.org/moin/BeginnersGuide/Programmers)\n",
    "\n",
    "[Python for Non-programmers](https://wiki.python.org/moin/BeginnersGuide/NonProgrammers)\n",
    "\n",
    "[Translating into Python from other languages](https://wiki.python.org/moin/MovingToPythonFromOtherLanguages)\n",
    "- [Translating between R & Python](https://towardsdatascience.com/essential-guide-to-translating-between-python-and-r-7cb18b786e5d)\n",
    "- [Numpy for MATLAB Users](http://mathesaurus.sourceforge.net/matlab-numpy.html)\n",
    "\n",
    "[Google's Intro Python Course](https://developers.google.com/edu/python/)\n",
    "\n",
    "[LearnPython.org](https://www.learnpython.org/)\n",
    "\n",
    "[Large list of Free Python Resources!](https://hakin9.org/list-of-free-python-resources/)\n",
    "\n",
    "### Other Useful Python Resources:\n",
    "\n",
    "[Stack Overflow](https://stackoverflow.com/): likely has an answer to almost any programming question you can think of\n",
    "\n",
    "[Anaconda](https://docs.anaconda.com/anaconda/): information on installation and uses of Anaconda, a helpful integrated Python tool\n",
    "\n",
    "[GitHub](https://github.com/): data/code repository - use it as a way to keep records of changes to your codes (i.e. version control) and a way for collaborators to work on the same scripts & projects\n",
    "    \n",
    "- Very useful [GitHub workflow lesson](https://github.com/csdms/espin/blob/main/lessons/git/index.md) from CSDMS!\n",
    "\n",
    "[OceanPython](https://oceanpython.org/): Python for Oceanographers & Marine Scientists! Cool (& probably relevant) oceanographic coding examples in Python.\n",
    "\n",
    "Hannah Mark, former JP student, created great notes from the 2017 version of this class about Python & general best programming practices. If you would like access to these, [contact me](mgillen@mit.edu) and I will pass along her materials!\n",
    "\n",
    "#### Cheat Sheets:\n",
    "[Beginner's Python](https://ehmatthes.github.io/pcc_2e/cheat_sheets/cheat_sheets/)\n",
    "\n",
    "[Matplotlib](https://s3.amazonaws.com/assets.datacamp.com/blog_assets/Python_Matplotlib_Cheat_Sheet.pdf)\n",
    "\n",
    "[Numpy](https://s3.amazonaws.com/assets.datacamp.com/blog_assets/Numpy_Python_Cheat_Sheet.pdf)\n",
    "\n",
    "[Pandas](http://datacamp-community-prod.s3.amazonaws.com/f04456d7-8e61-482f-9cc9-da6f7f25fc9b)\n",
    "\n",
    "[Data Wrangling with Pandas](https://pandas.pydata.org/Pandas_Cheat_Sheet.pdf)\n",
    "\n",
    "[GitHub Commands](https://education.github.com/git-cheat-sheet-education.pdf)"
   ]
  }
 ],
 "metadata": {
  "kernelspec": {
   "display_name": "Python 3",
   "language": "python",
   "name": "python3"
  },
  "language_info": {
   "codemirror_mode": {
    "name": "ipython",
    "version": 3
   },
   "file_extension": ".py",
   "mimetype": "text/x-python",
   "name": "python",
   "nbconvert_exporter": "python",
   "pygments_lexer": "ipython3",
   "version": "3.9.5"
  }
 },
 "nbformat": 4,
 "nbformat_minor": 4
}
