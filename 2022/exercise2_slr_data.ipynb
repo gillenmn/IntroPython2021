{
 "cells": [
  {
   "cell_type": "markdown",
   "metadata": {},
   "source": [
    "# Example #2: Exploring Data Science with Python - Analyzing Sea Level Trends\n",
    "\n",
    "In this exercise, we will be importing, analyzing, and plotting [NOAA Tide Gauge data](https://tidesandcurrents.noaa.gov/stations.html?type=Water+Levels) to interpret and visualize sea level trends for two sites in MA. We will be learning and utilizing these skills:\n",
    "\n",
    "- Importing CSVs and converting them to a usable format with *pandas*\n",
    "- Plotting data with *matplotlib*\n",
    "- Creating functions\n",
    "\n",
    "*Optional:*\n",
    "- Fitting a regression model to imported data with *sklearn*"
   ]
  },
  {
   "cell_type": "code",
   "execution_count": 1,
   "metadata": {},
   "outputs": [],
   "source": [
    "# import libraries\n",
    "import numpy as np\n",
    "import matplotlib.pyplot as plt\n",
    "import pandas as pd\n",
    "from sklearn.linear_model import LinearRegression"
   ]
  },
  {
   "cell_type": "markdown",
   "metadata": {},
   "source": [
    "### 1. Import & Clean Data\n",
    "Let's begin with bringing our tide gauge data into python. I've included two CSV files for sea level data - please click on one of these files to examine the input format. For this first part, we'll be using the Woods Hole data, and working with the `pandas` library. It is best to use `pandas` when working with tabular data, but you can also read & work with files using `numpy`."
   ]
  },
  {
   "cell_type": "code",
   "execution_count": 2,
   "metadata": {},
   "outputs": [
    {
     "name": "stdout",
     "output_type": "stream",
     "text": [
      "<class 'pandas.core.frame.DataFrame'>\n"
     ]
    }
   ],
   "source": [
    "# use the pandas read_csv function to bring in the data, and assign it to a variable\n",
    "wh_sl = pd.read_csv('Woods_Hole_MA_2022.csv')\n",
    "\n",
    "# print the data type - what does read_csv assign this new variable?\n",
    "print(type(wh_sl))"
   ]
  },
  {
   "cell_type": "markdown",
   "metadata": {},
   "source": [
    "To make sure the data was imported correctly, we can examine the first few rows using the `head()` function on the dataframe."
   ]
  },
  {
   "cell_type": "code",
   "execution_count": 3,
   "metadata": {},
   "outputs": [
    {
     "data": {
      "text/html": [
       "<div>\n",
       "<style scoped>\n",
       "    .dataframe tbody tr th:only-of-type {\n",
       "        vertical-align: middle;\n",
       "    }\n",
       "\n",
       "    .dataframe tbody tr th {\n",
       "        vertical-align: top;\n",
       "    }\n",
       "\n",
       "    .dataframe thead th {\n",
       "        text-align: right;\n",
       "    }\n",
       "</style>\n",
       "<table border=\"1\" class=\"dataframe\">\n",
       "  <thead>\n",
       "    <tr style=\"text-align: right;\">\n",
       "      <th></th>\n",
       "      <th>Year</th>\n",
       "      <th>Month</th>\n",
       "      <th>Monthly_MSL</th>\n",
       "      <th>Linear_Trend</th>\n",
       "      <th>High_Conf.</th>\n",
       "      <th>Low_Conf.</th>\n",
       "    </tr>\n",
       "  </thead>\n",
       "  <tbody>\n",
       "    <tr>\n",
       "      <th>1932</th>\n",
       "      <td>8</td>\n",
       "      <td>-0.180</td>\n",
       "      <td>-0.164</td>\n",
       "      <td>-0.155</td>\n",
       "      <td>-0.173</td>\n",
       "      <td>NaN</td>\n",
       "    </tr>\n",
       "    <tr>\n",
       "      <th>1932</th>\n",
       "      <td>9</td>\n",
       "      <td>-0.143</td>\n",
       "      <td>-0.164</td>\n",
       "      <td>-0.155</td>\n",
       "      <td>-0.172</td>\n",
       "      <td>NaN</td>\n",
       "    </tr>\n",
       "    <tr>\n",
       "      <th>1932</th>\n",
       "      <td>10</td>\n",
       "      <td>-0.220</td>\n",
       "      <td>-0.163</td>\n",
       "      <td>-0.155</td>\n",
       "      <td>-0.172</td>\n",
       "      <td>NaN</td>\n",
       "    </tr>\n",
       "    <tr>\n",
       "      <th>1932</th>\n",
       "      <td>11</td>\n",
       "      <td>-0.141</td>\n",
       "      <td>-0.163</td>\n",
       "      <td>-0.154</td>\n",
       "      <td>-0.172</td>\n",
       "      <td>NaN</td>\n",
       "    </tr>\n",
       "    <tr>\n",
       "      <th>1932</th>\n",
       "      <td>12</td>\n",
       "      <td>-0.159</td>\n",
       "      <td>-0.163</td>\n",
       "      <td>-0.154</td>\n",
       "      <td>-0.172</td>\n",
       "      <td>NaN</td>\n",
       "    </tr>\n",
       "  </tbody>\n",
       "</table>\n",
       "</div>"
      ],
      "text/plain": [
       "      Year   Month   Monthly_MSL   Linear_Trend   High_Conf.   Low_Conf.\n",
       "1932     8  -0.180        -0.164         -0.155       -0.173         NaN\n",
       "1932     9  -0.143        -0.164         -0.155       -0.172         NaN\n",
       "1932    10  -0.220        -0.163         -0.155       -0.172         NaN\n",
       "1932    11  -0.141        -0.163         -0.154       -0.172         NaN\n",
       "1932    12  -0.159        -0.163         -0.154       -0.172         NaN"
      ]
     },
     "execution_count": 3,
     "metadata": {},
     "output_type": "execute_result"
    }
   ],
   "source": [
    "# name_of_dataframe.head()\n",
    "wh_sl.head()"
   ]
  },
  {
   "cell_type": "markdown",
   "metadata": {},
   "source": [
    "We can also examine the last few rows using the `tail()` function."
   ]
  },
  {
   "cell_type": "code",
   "execution_count": 4,
   "metadata": {},
   "outputs": [
    {
     "data": {
      "text/html": [
       "<div>\n",
       "<style scoped>\n",
       "    .dataframe tbody tr th:only-of-type {\n",
       "        vertical-align: middle;\n",
       "    }\n",
       "\n",
       "    .dataframe tbody tr th {\n",
       "        vertical-align: top;\n",
       "    }\n",
       "\n",
       "    .dataframe thead th {\n",
       "        text-align: right;\n",
       "    }\n",
       "</style>\n",
       "<table border=\"1\" class=\"dataframe\">\n",
       "  <thead>\n",
       "    <tr style=\"text-align: right;\">\n",
       "      <th></th>\n",
       "      <th>Year</th>\n",
       "      <th>Month</th>\n",
       "      <th>Monthly_MSL</th>\n",
       "      <th>Linear_Trend</th>\n",
       "      <th>High_Conf.</th>\n",
       "      <th>Low_Conf.</th>\n",
       "    </tr>\n",
       "  </thead>\n",
       "  <tbody>\n",
       "    <tr>\n",
       "      <th>2022</th>\n",
       "      <td>1</td>\n",
       "      <td>0.150</td>\n",
       "      <td>0.103</td>\n",
       "      <td>0.111</td>\n",
       "      <td>0.094</td>\n",
       "      <td>NaN</td>\n",
       "    </tr>\n",
       "    <tr>\n",
       "      <th>2022</th>\n",
       "      <td>2</td>\n",
       "      <td>0.022</td>\n",
       "      <td>0.103</td>\n",
       "      <td>0.112</td>\n",
       "      <td>0.094</td>\n",
       "      <td>NaN</td>\n",
       "    </tr>\n",
       "    <tr>\n",
       "      <th>2022</th>\n",
       "      <td>3</td>\n",
       "      <td>0.084</td>\n",
       "      <td>0.103</td>\n",
       "      <td>0.112</td>\n",
       "      <td>0.095</td>\n",
       "      <td>NaN</td>\n",
       "    </tr>\n",
       "    <tr>\n",
       "      <th>2022</th>\n",
       "      <td>4</td>\n",
       "      <td>0.110</td>\n",
       "      <td>0.103</td>\n",
       "      <td>0.112</td>\n",
       "      <td>0.095</td>\n",
       "      <td>NaN</td>\n",
       "    </tr>\n",
       "    <tr>\n",
       "      <th>2022</th>\n",
       "      <td>5</td>\n",
       "      <td>0.152</td>\n",
       "      <td>0.104</td>\n",
       "      <td>0.112</td>\n",
       "      <td>0.095</td>\n",
       "      <td>NaN</td>\n",
       "    </tr>\n",
       "  </tbody>\n",
       "</table>\n",
       "</div>"
      ],
      "text/plain": [
       "      Year   Month   Monthly_MSL   Linear_Trend   High_Conf.   Low_Conf.\n",
       "2022     1   0.150         0.103          0.111        0.094         NaN\n",
       "2022     2   0.022         0.103          0.112        0.094         NaN\n",
       "2022     3   0.084         0.103          0.112        0.095         NaN\n",
       "2022     4   0.110         0.103          0.112        0.095         NaN\n",
       "2022     5   0.152         0.104          0.112        0.095         NaN"
      ]
     },
     "execution_count": 4,
     "metadata": {},
     "output_type": "execute_result"
    }
   ],
   "source": [
    "# name_of_dataframe.tail()\n",
    "wh_sl.tail()"
   ]
  },
  {
   "cell_type": "markdown",
   "metadata": {},
   "source": [
    "The `info()` function provides a description of the rows, columns, and datatypes in our dataframe:"
   ]
  },
  {
   "cell_type": "code",
   "execution_count": 5,
   "metadata": {},
   "outputs": [
    {
     "name": "stdout",
     "output_type": "stream",
     "text": [
      "<class 'pandas.core.frame.DataFrame'>\n",
      "Int64Index: 1034 entries, 1932 to 2022\n",
      "Data columns (total 6 columns):\n",
      " #   Column         Non-Null Count  Dtype  \n",
      "---  ------         --------------  -----  \n",
      " 0   Year           1034 non-null   int64  \n",
      " 1    Month         1034 non-null   float64\n",
      " 2    Monthly_MSL   1034 non-null   float64\n",
      " 3    Linear_Trend  1034 non-null   float64\n",
      " 4    High_Conf.    1034 non-null   float64\n",
      " 5    Low_Conf.     0 non-null      float64\n",
      "dtypes: float64(5), int64(1)\n",
      "memory usage: 56.5 KB\n"
     ]
    }
   ],
   "source": [
    "# name_of_dataframe.info()\n",
    "wh_sl.info()"
   ]
  },
  {
   "cell_type": "markdown",
   "metadata": {},
   "source": [
    "The first row of text tells us what the datatype of our input variable is (in this case, a dataframe which we identified above). Following that, we can see the number of rows for all columns, as well as the number of columns in the dataframe. What's neat about this function as well is you can see the specific datatype of values for each respective column. For example, the values in `Year` are all integers, and the specific mean sea level measurement values (`Monthly_MSL`) are floats."
   ]
  },
  {
   "cell_type": "markdown",
   "metadata": {},
   "source": [
    "The `describe()` function provides statistical information on each column of the dataframe:"
   ]
  },
  {
   "cell_type": "code",
   "execution_count": 6,
   "metadata": {},
   "outputs": [
    {
     "data": {
      "text/html": [
       "<div>\n",
       "<style scoped>\n",
       "    .dataframe tbody tr th:only-of-type {\n",
       "        vertical-align: middle;\n",
       "    }\n",
       "\n",
       "    .dataframe tbody tr th {\n",
       "        vertical-align: top;\n",
       "    }\n",
       "\n",
       "    .dataframe thead th {\n",
       "        text-align: right;\n",
       "    }\n",
       "</style>\n",
       "<table border=\"1\" class=\"dataframe\">\n",
       "  <thead>\n",
       "    <tr style=\"text-align: right;\">\n",
       "      <th></th>\n",
       "      <th>Year</th>\n",
       "      <th>Month</th>\n",
       "      <th>Monthly_MSL</th>\n",
       "      <th>Linear_Trend</th>\n",
       "      <th>High_Conf.</th>\n",
       "      <th>Low_Conf.</th>\n",
       "    </tr>\n",
       "  </thead>\n",
       "  <tbody>\n",
       "    <tr>\n",
       "      <th>count</th>\n",
       "      <td>1034.000000</td>\n",
       "      <td>1034.000000</td>\n",
       "      <td>1034.000000</td>\n",
       "      <td>1034.000000</td>\n",
       "      <td>1034.000000</td>\n",
       "      <td>0.0</td>\n",
       "    </tr>\n",
       "    <tr>\n",
       "      <th>mean</th>\n",
       "      <td>6.504836</td>\n",
       "      <td>-0.029580</td>\n",
       "      <td>-0.029297</td>\n",
       "      <td>-0.023232</td>\n",
       "      <td>-0.035377</td>\n",
       "      <td>NaN</td>\n",
       "    </tr>\n",
       "    <tr>\n",
       "      <th>std</th>\n",
       "      <td>3.459974</td>\n",
       "      <td>0.091038</td>\n",
       "      <td>0.078554</td>\n",
       "      <td>0.078539</td>\n",
       "      <td>0.078595</td>\n",
       "      <td>NaN</td>\n",
       "    </tr>\n",
       "    <tr>\n",
       "      <th>min</th>\n",
       "      <td>1.000000</td>\n",
       "      <td>-0.309000</td>\n",
       "      <td>-0.164000</td>\n",
       "      <td>-0.155000</td>\n",
       "      <td>-0.173000</td>\n",
       "      <td>NaN</td>\n",
       "    </tr>\n",
       "    <tr>\n",
       "      <th>25%</th>\n",
       "      <td>3.250000</td>\n",
       "      <td>-0.100000</td>\n",
       "      <td>-0.100000</td>\n",
       "      <td>-0.094000</td>\n",
       "      <td>-0.105750</td>\n",
       "      <td>NaN</td>\n",
       "    </tr>\n",
       "    <tr>\n",
       "      <th>50%</th>\n",
       "      <td>7.000000</td>\n",
       "      <td>-0.037500</td>\n",
       "      <td>-0.025500</td>\n",
       "      <td>-0.021000</td>\n",
       "      <td>-0.030000</td>\n",
       "      <td>NaN</td>\n",
       "    </tr>\n",
       "    <tr>\n",
       "      <th>75%</th>\n",
       "      <td>10.000000</td>\n",
       "      <td>0.033750</td>\n",
       "      <td>0.038750</td>\n",
       "      <td>0.044000</td>\n",
       "      <td>0.033000</td>\n",
       "      <td>NaN</td>\n",
       "    </tr>\n",
       "    <tr>\n",
       "      <th>max</th>\n",
       "      <td>12.000000</td>\n",
       "      <td>0.276000</td>\n",
       "      <td>0.104000</td>\n",
       "      <td>0.112000</td>\n",
       "      <td>0.095000</td>\n",
       "      <td>NaN</td>\n",
       "    </tr>\n",
       "  </tbody>\n",
       "</table>\n",
       "</div>"
      ],
      "text/plain": [
       "              Year        Month   Monthly_MSL   Linear_Trend   High_Conf.  \\\n",
       "count  1034.000000  1034.000000   1034.000000    1034.000000  1034.000000   \n",
       "mean      6.504836    -0.029580     -0.029297      -0.023232    -0.035377   \n",
       "std       3.459974     0.091038      0.078554       0.078539     0.078595   \n",
       "min       1.000000    -0.309000     -0.164000      -0.155000    -0.173000   \n",
       "25%       3.250000    -0.100000     -0.100000      -0.094000    -0.105750   \n",
       "50%       7.000000    -0.037500     -0.025500      -0.021000    -0.030000   \n",
       "75%      10.000000     0.033750      0.038750       0.044000     0.033000   \n",
       "max      12.000000     0.276000      0.104000       0.112000     0.095000   \n",
       "\n",
       "        Low_Conf.  \n",
       "count         0.0  \n",
       "mean          NaN  \n",
       "std           NaN  \n",
       "min           NaN  \n",
       "25%           NaN  \n",
       "50%           NaN  \n",
       "75%           NaN  \n",
       "max           NaN  "
      ]
     },
     "execution_count": 6,
     "metadata": {},
     "output_type": "execute_result"
    }
   ],
   "source": [
    "# name_of_dataframe.describe()\n",
    "wh_sl.describe()"
   ]
  },
  {
   "cell_type": "markdown",
   "metadata": {},
   "source": [
    "Now that our data is successfully imported into Python, there's just a couple things we need to fix to make our data more usable.\n",
    "\n",
    "If you notice in the printed dataframe above, the dates are bolded in the left most column. It looks like our columns are mislabeled as well. \n",
    "\n",
    "When Python read in the file, it assigned the first column of the CSV as the table index. This shifted all of the column names over, leaving a column of NaN for our `Low_Coef` parameter. But not to fear! This is an easy fix. We'll incorporate some more pandas functions to process our data into a more usable and accurate format."
   ]
  },
  {
   "cell_type": "code",
   "execution_count": 7,
   "metadata": {},
   "outputs": [
    {
     "data": {
      "text/html": [
       "<div>\n",
       "<style scoped>\n",
       "    .dataframe tbody tr th:only-of-type {\n",
       "        vertical-align: middle;\n",
       "    }\n",
       "\n",
       "    .dataframe tbody tr th {\n",
       "        vertical-align: top;\n",
       "    }\n",
       "\n",
       "    .dataframe thead th {\n",
       "        text-align: right;\n",
       "    }\n",
       "</style>\n",
       "<table border=\"1\" class=\"dataframe\">\n",
       "  <thead>\n",
       "    <tr style=\"text-align: right;\">\n",
       "      <th></th>\n",
       "      <th>index</th>\n",
       "      <th>Year</th>\n",
       "      <th>Month</th>\n",
       "      <th>Monthly_MSL</th>\n",
       "      <th>Linear_Trend</th>\n",
       "      <th>High_Conf.</th>\n",
       "      <th>Low_Conf.</th>\n",
       "    </tr>\n",
       "  </thead>\n",
       "  <tbody>\n",
       "    <tr>\n",
       "      <th>0</th>\n",
       "      <td>1932</td>\n",
       "      <td>8</td>\n",
       "      <td>-0.180</td>\n",
       "      <td>-0.164</td>\n",
       "      <td>-0.155</td>\n",
       "      <td>-0.173</td>\n",
       "      <td>NaN</td>\n",
       "    </tr>\n",
       "    <tr>\n",
       "      <th>1</th>\n",
       "      <td>1932</td>\n",
       "      <td>9</td>\n",
       "      <td>-0.143</td>\n",
       "      <td>-0.164</td>\n",
       "      <td>-0.155</td>\n",
       "      <td>-0.172</td>\n",
       "      <td>NaN</td>\n",
       "    </tr>\n",
       "    <tr>\n",
       "      <th>2</th>\n",
       "      <td>1932</td>\n",
       "      <td>10</td>\n",
       "      <td>-0.220</td>\n",
       "      <td>-0.163</td>\n",
       "      <td>-0.155</td>\n",
       "      <td>-0.172</td>\n",
       "      <td>NaN</td>\n",
       "    </tr>\n",
       "    <tr>\n",
       "      <th>3</th>\n",
       "      <td>1932</td>\n",
       "      <td>11</td>\n",
       "      <td>-0.141</td>\n",
       "      <td>-0.163</td>\n",
       "      <td>-0.154</td>\n",
       "      <td>-0.172</td>\n",
       "      <td>NaN</td>\n",
       "    </tr>\n",
       "    <tr>\n",
       "      <th>4</th>\n",
       "      <td>1932</td>\n",
       "      <td>12</td>\n",
       "      <td>-0.159</td>\n",
       "      <td>-0.163</td>\n",
       "      <td>-0.154</td>\n",
       "      <td>-0.172</td>\n",
       "      <td>NaN</td>\n",
       "    </tr>\n",
       "  </tbody>\n",
       "</table>\n",
       "</div>"
      ],
      "text/plain": [
       "   index  Year   Month   Monthly_MSL   Linear_Trend   High_Conf.   Low_Conf.\n",
       "0   1932     8  -0.180        -0.164         -0.155       -0.173         NaN\n",
       "1   1932     9  -0.143        -0.164         -0.155       -0.172         NaN\n",
       "2   1932    10  -0.220        -0.163         -0.155       -0.172         NaN\n",
       "3   1932    11  -0.141        -0.163         -0.154       -0.172         NaN\n",
       "4   1932    12  -0.159        -0.163         -0.154       -0.172         NaN"
      ]
     },
     "execution_count": 7,
     "metadata": {},
     "output_type": "execute_result"
    }
   ],
   "source": [
    "# first we reset the index to move the years into the data frame using the .reset_index() function\n",
    "wh_sl2 = wh_sl.reset_index()\n",
    "\n",
    "## it is good practice to assign new variable names when you are changing aspects of the original dataframe. \n",
    "## that way, if you make a mistake, the original data is preserved in python!\n",
    "\n",
    "# look at data to make sure everything is correct using .head()\n",
    "wh_sl2.head()"
   ]
  },
  {
   "cell_type": "code",
   "execution_count": 8,
   "metadata": {},
   "outputs": [
    {
     "data": {
      "text/html": [
       "<div>\n",
       "<style scoped>\n",
       "    .dataframe tbody tr th:only-of-type {\n",
       "        vertical-align: middle;\n",
       "    }\n",
       "\n",
       "    .dataframe tbody tr th {\n",
       "        vertical-align: top;\n",
       "    }\n",
       "\n",
       "    .dataframe thead th {\n",
       "        text-align: right;\n",
       "    }\n",
       "</style>\n",
       "<table border=\"1\" class=\"dataframe\">\n",
       "  <thead>\n",
       "    <tr style=\"text-align: right;\">\n",
       "      <th></th>\n",
       "      <th>Year</th>\n",
       "      <th>Month</th>\n",
       "      <th>Monthly_MSL</th>\n",
       "      <th>Linear_Trend</th>\n",
       "      <th>High_Conf.</th>\n",
       "      <th>Low_Conf.</th>\n",
       "    </tr>\n",
       "  </thead>\n",
       "  <tbody>\n",
       "    <tr>\n",
       "      <th>0</th>\n",
       "      <td>1932</td>\n",
       "      <td>8</td>\n",
       "      <td>-0.180</td>\n",
       "      <td>-0.164</td>\n",
       "      <td>-0.155</td>\n",
       "      <td>-0.173</td>\n",
       "    </tr>\n",
       "    <tr>\n",
       "      <th>1</th>\n",
       "      <td>1932</td>\n",
       "      <td>9</td>\n",
       "      <td>-0.143</td>\n",
       "      <td>-0.164</td>\n",
       "      <td>-0.155</td>\n",
       "      <td>-0.172</td>\n",
       "    </tr>\n",
       "    <tr>\n",
       "      <th>2</th>\n",
       "      <td>1932</td>\n",
       "      <td>10</td>\n",
       "      <td>-0.220</td>\n",
       "      <td>-0.163</td>\n",
       "      <td>-0.155</td>\n",
       "      <td>-0.172</td>\n",
       "    </tr>\n",
       "    <tr>\n",
       "      <th>3</th>\n",
       "      <td>1932</td>\n",
       "      <td>11</td>\n",
       "      <td>-0.141</td>\n",
       "      <td>-0.163</td>\n",
       "      <td>-0.154</td>\n",
       "      <td>-0.172</td>\n",
       "    </tr>\n",
       "    <tr>\n",
       "      <th>4</th>\n",
       "      <td>1932</td>\n",
       "      <td>12</td>\n",
       "      <td>-0.159</td>\n",
       "      <td>-0.163</td>\n",
       "      <td>-0.154</td>\n",
       "      <td>-0.172</td>\n",
       "    </tr>\n",
       "  </tbody>\n",
       "</table>\n",
       "</div>"
      ],
      "text/plain": [
       "   Year   Month   Monthly_MSL   Linear_Trend   High_Conf.   Low_Conf.\n",
       "0  1932       8        -0.180         -0.164       -0.155      -0.173\n",
       "1  1932       9        -0.143         -0.164       -0.155      -0.172\n",
       "2  1932      10        -0.220         -0.163       -0.155      -0.172\n",
       "3  1932      11        -0.141         -0.163       -0.154      -0.172\n",
       "4  1932      12        -0.159         -0.163       -0.154      -0.172"
      ]
     },
     "execution_count": 8,
     "metadata": {},
     "output_type": "execute_result"
    }
   ],
   "source": [
    "## we need to overwrite the dataframe to shift our column names to the correct spots. \n",
    "## we do this by creating a new dataframe and assigning it to a new variable\n",
    "\n",
    "# index the existing column names we want (i.e., Year onwards) and assigning them to a specific variable\n",
    "colNames = wh_sl2.columns[1:]\n",
    "\n",
    "# creating the new dataframe by indexing the columns we want - this will remove the NaN column we don't need\n",
    "wh_sl3 = wh_sl2[wh_sl2.columns[0:6]]\n",
    "\n",
    "# reassign column names to their proper place\n",
    "wh_sl3.columns = colNames\n",
    "\n",
    "# look at the dataframe to make sure everything is correct\n",
    "wh_sl3.head()"
   ]
  },
  {
   "cell_type": "markdown",
   "metadata": {},
   "source": [
    "Hooray! We've now have our data cleaned up in a usable format and ready for analysis. We're ready to move onto the next step in this exercise.\n",
    "\n",
    "### 2. Plot Sea Level Data\n",
    "\n",
    "We are ready to plot our newly cleaned up sea level data. We'll be using the `matplotlib` library to visual monthly mean sea level through time for Woods Hole.\n",
    "\n",
    "First, let's assign some variables to values from the dataframe to save us some typing:"
   ]
  },
  {
   "cell_type": "code",
   "execution_count": 9,
   "metadata": {},
   "outputs": [
    {
     "name": "stdout",
     "output_type": "stream",
     "text": [
      "0       1932\n",
      "1       1932\n",
      "2       1932\n",
      "3       1932\n",
      "4       1932\n",
      "        ... \n",
      "1029    2022\n",
      "1030    2022\n",
      "1031    2022\n",
      "1032    2022\n",
      "1033    2022\n",
      "Name: Year, Length: 1034, dtype: int64\n",
      "0      -0.180\n",
      "1      -0.143\n",
      "2      -0.220\n",
      "3      -0.141\n",
      "4      -0.159\n",
      "        ...  \n",
      "1029    0.150\n",
      "1030    0.022\n",
      "1031    0.084\n",
      "1032    0.110\n",
      "1033    0.152\n",
      "Name:  Monthly_MSL, Length: 1034, dtype: float64\n"
     ]
    }
   ],
   "source": [
    "# index the Years and Monthly_MSL columns from the dataframe into separate variables\n",
    "\n",
    "# use loc to index data by name/string\n",
    "years = wh_sl3.loc[:,'Year']\n",
    "# use iloc to index data by position\n",
    "msl = wh_sl3.iloc[:,2]\n",
    "\n",
    "print(years)\n",
    "print(msl)"
   ]
  },
  {
   "cell_type": "markdown",
   "metadata": {},
   "source": [
    "Below are commands to plot MSL as a solid black line. We also assign labels to the x and y axis, as well as give the plot a title."
   ]
  },
  {
   "cell_type": "code",
   "execution_count": 10,
   "metadata": {},
   "outputs": [
    {
     "data": {
      "image/png": "[encoded data removed]",
      "text/plain": [
       "<Figure size 691.2x345.6 with 1 Axes>"
      ]
     },
     "metadata": {
      "needs_background": "light"
     },
     "output_type": "display_data"
    }
   ],
   "source": [
    "# create a figure\n",
    "fig = plt.figure(figsize=plt.figaspect(0.5))\n",
    "# create a line graph\n",
    "plt.plot(years,msl, color='k');\n",
    "# add X & Y axis labels\n",
    "plt.xlabel('Years',style='italic',fontsize=12);\n",
    "plt.ylabel('Monthly MSL (m)',style='italic',fontsize=12);\n",
    "# add a title\n",
    "plt.title('Mean Sea Level for Woods Hole, MA', weight='bold',fontsize=15);\n",
    "# show plot\n",
    "plt.show()"
   ]
  },
  {
   "cell_type": "markdown",
   "metadata": {},
   "source": [
    "Looks awesome! We have so far imported data, processed it into a usable format, and have not visualized our plot with a line graph. Great work!\n",
    "\n",
    "There are other functions within the `matplotlib` library to further customize plots that you create. You can find those & their descriptions in the library documentation (linked in **Relevant Libraries** from main notebook) or with the cheat sheet (linked in **Resources** from main notebook).\n",
    "\n",
    "### 3. Constructing Functions\n",
    "\n",
    "We now have an established workflow to extract, process, and plot sea level data. Wouldn't it be nice if we could use this with other sea level rise data sets? This is where functions come in to help!\n",
    "\n",
    "A function takes generic input variables, performs a series of operations on them (including calculations, data processing, plotting, etc.), and returns a specified variable, figure, or even dataset! These can be written within a script, or as a separate python file. Functions are helpful because:\n",
    "1. You don't have to rewrite the same block of code over & over again\n",
    "2. Figure specifics can be standardized\n",
    "3. Open source potential!\n",
    "\n",
    "For this part of the exercise, we will take our workflow from steps 1 & 2 and combine them all into one function called `plot_sl`."
   ]
  },
  {
   "cell_type": "code",
   "execution_count": 11,
   "metadata": {},
   "outputs": [],
   "source": [
    "def plot_sl(filename):\n",
    "    # you have the option to include import statements for specific libraries used in the function here. i recommend doing this if you are writing your functions in a separate script!\n",
    "    \n",
    "    # data processing part\n",
    "    df = pd.read_csv(filename)\n",
    "    df2 = df.reset_index()\n",
    "    colNames = df2.columns[1:]\n",
    "    df3 = df2[df2.columns[0:6]]\n",
    "    df3.columns = colNames\n",
    "    \n",
    "    # plot mean sea level\n",
    "    yrs = df3.loc[:,'Year']\n",
    "    msl = df3.loc[:, ' Monthly_MSL']\n",
    "    \n",
    "    # this code block extracts the site name with some fun string indexing & functions\n",
    "    siteName = filename[:-4].replace('_', ' ')\n",
    "    siteName = siteName[:-8] + ',' + siteName[-8:-4]\n",
    "    \n",
    "    fig = plt.figure(figsize=plt.figaspect(0.5))\n",
    "    plt.plot(yrs,msl, color='k');\n",
    "    plt.xlabel('Years',style='italic',fontsize=12);\n",
    "    plt.ylabel('Monthly MSL (m)',style='italic',fontsize=12);\n",
    "    plt.title('Mean Sea Level for ' + siteName, weight='bold',fontsize=15);\n",
    "    return df3"
   ]
  },
  {
   "cell_type": "markdown",
   "metadata": {},
   "source": [
    "Now let's test our function on the Boston NOAA Tide Gauge Data:"
   ]
  },
  {
   "cell_type": "code",
   "execution_count": 12,
   "metadata": {},
   "outputs": [
    {
     "data": {
      "image/png": "[encoded data removed]",
      "text/plain": [
       "<Figure size 576x288 with 1 Axes>"
      ]
     },
     "metadata": {
      "needs_background": "light"
     },
     "output_type": "display_data"
    }
   ],
   "source": [
    "plot_sl('Boston_MA_2022.csv'); #the ; suppresses the function output, if we deleted this we would see the dataframe"
   ]
  },
  {
   "cell_type": "markdown",
   "metadata": {},
   "source": [
    "It works! We now have a convienent function to use to visualize and process sea level data for any NOAA Tide Gauge station. Functions are a wonderful part of any coding language, especially Python (can you tell that I am a huge fan??).\n",
    "\n",
    "This concludes the in-person section of the excerise. Below is an optional addition to the exercise that fits and plots a linear model to our sea level data using the `sklearn` machine learning library. If you are interested in data analysis, I highly recommend you work through the next section on your own time (if we don't get to it in class).\n",
    "\n",
    "## Exercise #2 Optional Skills Practice\n",
    "\n",
    "### 4. Fit a regression model\n",
    "\n",
    "In order to estimate rates of sea level change, NOAA fits a simple linear regression model to the monthly mean sea level (MSL) data. We'll be replicating this approach and fitting our own linear model with our newly cleaned data, using the machine learning library `sklearn`.\n",
    "\n",
    "If you haven't learned about regressions or don't remember them from previous course work, do not fret! Brynn will be reviewing these statistical tools in their class, **Probability & Statistics**, later in the summer. I highly encourage checking those out if you will be working with a lot of data for your research!"
   ]
  },
  {
   "cell_type": "code",
   "execution_count": 13,
   "metadata": {},
   "outputs": [
    {
     "name": "stdout",
     "output_type": "stream",
     "text": [
      "[[1932]\n",
      " [1932]\n",
      " [1932]\n",
      " ...\n",
      " [2022]\n",
      " [2022]\n",
      " [2022]]\n",
      "\n",
      "[[-0.18 ]\n",
      " [-0.143]\n",
      " [-0.22 ]\n",
      " ...\n",
      " [ 0.084]\n",
      " [ 0.11 ]\n",
      " [ 0.152]]\n"
     ]
    }
   ],
   "source": [
    "# first, assign our input and output variables to construct the model\n",
    "\n",
    "# we have to convert these columns of datas into 1D arrays to use with the sklearn functions. we assign the variables using np.array(), and change the dimensions of the array with .reshape()\n",
    "# the -1 in reshape means numpy has to figure out that dimension (i.e., in this case, an unknown number of rows)\n",
    "yrs = np.array(wh_sl3.loc[:,'Year']).reshape(-1,1) #loc isolates rows and/or columns based on labels\n",
    "msl = np.array(wh_sl3.iloc[:,2]).reshape(-1,1) #iloc isolates rows and/or based on index\n",
    "#remember python indexing starts at 0!\n",
    "\n",
    "# make sure we got the right data!\n",
    "print(yrs)\n",
    "print() # just an empty space to separate our two arrays\n",
    "print(msl)"
   ]
  },
  {
   "cell_type": "markdown",
   "metadata": {},
   "source": [
    "These arrays should match their respective columns in the dataframe above. Now we can bring in our linear model setup from sklearn."
   ]
  },
  {
   "cell_type": "code",
   "execution_count": 14,
   "metadata": {},
   "outputs": [
    {
     "data": {
      "text/plain": [
       "0.744584187896911"
      ]
     },
     "execution_count": 14,
     "metadata": {},
     "output_type": "execute_result"
    }
   ],
   "source": [
    "# initialize and fit the linear regression model\n",
    "lm = LinearRegression().fit(yrs,msl)\n",
    "lm.score(yrs,msl) # this extracts our R^2 value"
   ]
  },
  {
   "cell_type": "code",
   "execution_count": 15,
   "metadata": {},
   "outputs": [],
   "source": [
    "# use fitted linear model to model predicted MSL values\n",
    "modeled_msl = lm.predict(yrs)"
   ]
  },
  {
   "cell_type": "code",
   "execution_count": 16,
   "metadata": {},
   "outputs": [
    {
     "name": "stdout",
     "output_type": "stream",
     "text": [
      "The rate of sea level change for Woods Hole, MA is:  0.003  meters per year.\n"
     ]
    }
   ],
   "source": [
    "# extract the model coefficient and intercept\n",
    "slope = lm.coef_\n",
    "intcpt = lm.intercept_\n",
    "\n",
    "print('The rate of sea level change for Woods Hole, MA is: ', round(float(slope),3),' meters per year.')"
   ]
  },
  {
   "cell_type": "markdown",
   "metadata": {},
   "source": [
    "Neat! We just extracted a rate of sea level rise in meters per year for Woods Hole. We can now overlay the calculated regression line to our raw MSL data we plotted before to examine the fit."
   ]
  },
  {
   "cell_type": "code",
   "execution_count": 17,
   "metadata": {},
   "outputs": [
    {
     "data": {
      "image/png": "[encoded data removed]",
      "text/plain": [
       "<Figure size 576x288 with 1 Axes>"
      ]
     },
     "metadata": {
      "needs_background": "light"
     },
     "output_type": "display_data"
    },
    {
     "name": "stdout",
     "output_type": "stream",
     "text": [
      "Model score (R²):  0.74\n",
      "The rate of sea level change for Woods Hole, MA is:  0.003  meters per year.\n"
     ]
    }
   ],
   "source": [
    "fig = plt.figure(figsize=plt.figaspect(0.5))\n",
    "plt.plot(years,msl, color='k');\n",
    "plt.xlabel('Years',style='italic',fontsize=12);\n",
    "plt.ylabel('Monthly MSL (m)',style='italic',fontsize=12);\n",
    "plt.title('Mean Sea Level for Woods Hole, MA', weight='bold',fontsize=15);\n",
    "\n",
    "# add regression line\n",
    "plt.plot(yrs, modeled_msl, color='r', linewidth=2.0)\n",
    "plt.legend(['NOAA Data','Modeled Linear Trend'])\n",
    "plt.show()\n",
    "\n",
    "# print out model specifications\n",
    "print('Model score (R\\u00b2): ', round(float(lm.score(yrs,msl)),2))\n",
    "print('The rate of sea level change for Woods Hole, MA is: ', round(float(slope),3), ' meters per year.')"
   ]
  },
  {
   "cell_type": "markdown",
   "metadata": {},
   "source": [
    "Congratulations! We just fitted a linear sea level rise model for Woods Hole. This concludes the data science section of the class. "
   ]
  }
 ],
 "metadata": {
  "kernelspec": {
   "display_name": "Python 3 (ipykernel)",
   "language": "python",
   "name": "python3"
  },
  "language_info": {
   "codemirror_mode": {
    "name": "ipython",
    "version": 3
   },
   "file_extension": ".py",
   "mimetype": "text/x-python",
   "name": "python",
   "nbconvert_exporter": "python",
   "pygments_lexer": "ipython3",
   "version": "3.8.13"
  }
 },
 "nbformat": 4,
 "nbformat_minor": 4
}
