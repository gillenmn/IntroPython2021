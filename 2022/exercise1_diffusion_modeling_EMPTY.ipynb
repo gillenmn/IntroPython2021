{
 "cells": [
  {
   "cell_type": "markdown",
   "id": "de67ba37-4830-49d5-9d27-8923419ae595",
   "metadata": {},
   "source": [
    "# Example #1: Numerical Modeling Applications with Python - Diffusion of Random Particles\n",
    "\n",
    "In this exercise, we will be simulating the random movement of particles and plotting their distributions through time with a [random walk model](https://en.wikipedia.org/wiki/Random_walk). We will be learning and utilizing these skills:\n",
    "\n",
    "- Creating arrays of random numeric values with *numpy* & *random*\n",
    "- For loops & if statements\n",
    "- Plotting with *matplotlib*\n",
    "\n",
    "*Optional*\n",
    "- Animate plots with *IPython*"
   ]
  },
  {
   "cell_type": "code",
   "execution_count": null,
   "id": "521cf03e-5f67-40bb-b53d-8e5bf5fc3cc1",
   "metadata": {},
   "outputs": [],
   "source": [
    "# import libraries\n",
    "import numpy as np\n",
    "import matplotlib.pyplot as plt\n",
    "import random"
   ]
  },
  {
   "cell_type": "markdown",
   "id": "fe766164-0a49-4372-8f9c-0f004d8df5f7",
   "metadata": {},
   "source": [
    "### 1. Model Setup\n",
    "\n",
    "First, we need to establish some variables for our model:"
   ]
  },
  {
   "cell_type": "code",
   "execution_count": null,
   "id": "8ba84703-3d50-4200-862b-8bb64110cc05",
   "metadata": {},
   "outputs": [],
   "source": [
    "# initial start time (seconds)\n",
    "t0 = \n",
    "# change in position each particle will undergo (random between positive & negative direction)\n",
    "dx = \n",
    "# number of particles\n",
    "n = \n",
    "# model duration (seconds)\n",
    "model_run = "
   ]
  },
  {
   "cell_type": "markdown",
   "id": "ef5e02c7-aa5c-40bc-9ff4-190310e1d2aa",
   "metadata": {},
   "source": [
    "We also need a way to store all the data we will be generate in our model runs. We will use the **array** data type within the `numpy` library to do this:"
   ]
  },
  {
   "cell_type": "code",
   "execution_count": null,
   "id": "cbf5cf96-974c-4ea6-ac0a-0fbdac57c6c7",
   "metadata": {},
   "outputs": [],
   "source": [
    "# create an array with all particle numbers\n",
    "nP = \n",
    "print(nP)\n",
    "\n",
    "# create an empty array to store initial particle positions (all starting at 0)\n",
    "x = \n",
    "print(x)"
   ]
  },
  {
   "cell_type": "markdown",
   "id": "30c8cd1f-e701-4a65-ba53-fafee99cabab",
   "metadata": {},
   "source": [
    "Now we're ready to construct our model! What we are going to simulate is the random movement of **n** particles every second based on a predetermined range of movement (in this case, 2 units). Each particle will either move 2 units to the left or 2 units to the right - we'll let Python decide! To see how our distribution of particles evolves, we will also be plotting histograms of the particle positions periodically as the model runs. \n",
    "\n",
    "This model uses the `numpy`, `random`, & `matplotlib` libraries. We will be using a **for loop** to specify how long we want our model to run, and **if statements** for our plots."
   ]
  },
  {
   "cell_type": "markdown",
   "id": "40b8dc9a-d6ce-42ce-a743-6bbc5313d962",
   "metadata": {},
   "source": [
    "### 2.1 Model Construction - Particle Movement\n",
    "\n",
    "The first step in running our model is to randomly move every particle by our step size defined above. This will require using the `random` library, our numpy array, and a for loop:"
   ]
  },
  {
   "cell_type": "code",
   "execution_count": null,
   "id": "bd76d802-758f-4671-a88e-f6cb3db7034d",
   "metadata": {},
   "outputs": [],
   "source": [
    "# write a line of code that shifts the first particle randomly left or right by dx\n",
    "## remember we constructed an array x with all of our particle positions!\n",
    "\n",
    "print(x[0])"
   ]
  },
  {
   "cell_type": "code",
   "execution_count": null,
   "id": "75f7cb0b-678b-439e-a854-4f6bd0eabac7",
   "metadata": {},
   "outputs": [],
   "source": [
    "# re-initialize starting position for first particle\n",
    "x[0] = 0\n",
    "\n",
    "# write a for loop that randomly moves all particles using line of code above\n",
    "\n",
    "\n",
    "    \n",
    "# let's look at our new array:\n"
   ]
  },
  {
   "cell_type": "markdown",
   "id": "86736cff-8e32-4192-a833-0a27bc8c99da",
   "metadata": {},
   "source": [
    "### 2.2 Model Construction - Plotting Particle Position\n",
    "\n",
    "The second piece of model involves visualizing particle positions with a histogram. We will be using the `matplotlib` library for this section, and adding customization to our figures to make them look nice. Let's begin by plotting our newly changed 'x' array:"
   ]
  },
  {
   "cell_type": "code",
   "execution_count": null,
   "id": "e4af6d2b-ad49-40f3-b19b-847d6acde8c7",
   "metadata": {},
   "outputs": [],
   "source": [
    "# create a histogram of particle positions\n",
    "\n",
    "\n",
    "# add a title\n",
    "## optional: add bold\n",
    "\n",
    "\n",
    "# add X & Y axis labels\n",
    "## optional: add italics\n",
    "\n",
    "\n",
    "\n",
    "\n",
    "# set a Y axis limit\n",
    "\n",
    "\n",
    "# show the plt\n"
   ]
  },
  {
   "cell_type": "markdown",
   "id": "d4d832b1-7c0b-4c5f-b56f-cb7dc06c1a86",
   "metadata": {},
   "source": [
    "Looks great! It's not the most exciting histogram right now, but it will look cool as we visualize our particle movements over much larger timesteps. \n",
    "\n",
    "We have now written the two parts of our model, and are ready to bring everything together to run over our entire model duration.\n",
    "\n",
    "### 3. Run the Model!\n",
    "\n",
    "For this section, we will be placing our model components inside another for loop that runs for a specified time interval. We will also be adding an **if statement** to plot at various time intervals, so we don't get a plot every time step."
   ]
  },
  {
   "cell_type": "code",
   "execution_count": null,
   "id": "1f700aac-9056-4564-a226-c4313133bc2a",
   "metadata": {},
   "outputs": [],
   "source": [
    "# write a for loop that will run for the entire model duration\n",
    "for :\n",
    "    # for each particle, shift the position randomly left or right by dx\n",
    "    for :\n",
    "        \n",
    "    # write an if statement that plots every 100 seconds\n",
    "    if :\n",
    "        # add plotting code. note we are replacing the number of bins with a numpy array\n",
    "        \n",
    "        # add a title using string concatenation\n",
    "        \n",
    "        \n",
    "        # add X & Y axis labels\n",
    "        \n",
    "        \n",
    "        # set a Y axis limit\n",
    "        \n",
    "        # show the plt\n",
    "        "
   ]
  },
  {
   "cell_type": "markdown",
   "id": "d0803520-8035-42c4-913c-72816519a39d",
   "metadata": {},
   "source": [
    "Congratulations! We just constructed a random walk model that simulated the movement of particles in a system. Note that our particles organized into a Gaussian distribution (don't remember what that is? John should be covering that in his course **Probability & Statistics** later in the summer!). This concludes the recommended portion of the numerical modeling section of this class.\n",
    "\n",
    "### Optional: Animate our Plots\n",
    "\n",
    "Using the `IPython` Library, we can also make cool animations of our plots..."
   ]
  },
  {
   "cell_type": "code",
   "execution_count": null,
   "id": "c5e646e9-3a28-43c7-8c4f-10743c33ca77",
   "metadata": {},
   "outputs": [],
   "source": [
    "# import clear_output from IPython\n",
    "from IPython.display import clear_output"
   ]
  },
  {
   "cell_type": "code",
   "execution_count": null,
   "id": "77d31ddf-3a48-49f8-958a-77f7e2a88f47",
   "metadata": {},
   "outputs": [],
   "source": [
    "# re-initialize our starting positions at 0\n",
    "x = np.zeros_like(nP)"
   ]
  },
  {
   "cell_type": "code",
   "execution_count": null,
   "id": "6540d789-af1f-467e-9390-73267a546b6d",
   "metadata": {},
   "outputs": [],
   "source": [
    "# run the model again\n",
    "for t in range(t0,model_run):\n",
    "    for i in range(0,n):\n",
    "        x[i] += random.choice([-dx,dx])\n",
    "    # plot every 20 seconds\n",
    "    if t%20==0:\n",
    "        # add line before generating plot for animation!\n",
    "        \n",
    "        plt.hist(x,bins=np.arange(-200,200,4))\n",
    "        plt.title('Particles after ' + str(t) + 's')\n",
    "        plt.xlabel('Horizontal Distance')\n",
    "        plt.ylabel('Num. Particles')\n",
    "        plt.ylim([0,1e3])\n",
    "        plt.show()"
   ]
  },
  {
   "cell_type": "code",
   "execution_count": null,
   "id": "19f01332-68ea-4881-8dcd-6c8edf90b094",
   "metadata": {},
   "outputs": [],
   "source": []
  }
 ],
 "metadata": {
  "kernelspec": {
   "display_name": "Python 3 (ipykernel)",
   "language": "python",
   "name": "python3"
  },
  "language_info": {
   "codemirror_mode": {
    "name": "ipython",
    "version": 3
   },
   "file_extension": ".py",
   "mimetype": "text/x-python",
   "name": "python",
   "nbconvert_exporter": "python",
   "pygments_lexer": "ipython3",
   "version": "3.8.13"
  }
 },
 "nbformat": 4,
 "nbformat_minor": 5
}
